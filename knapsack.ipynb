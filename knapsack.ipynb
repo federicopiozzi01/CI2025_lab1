{
 "cells": [
  {
   "cell_type": "markdown",
   "id": "11fa4375",
   "metadata": {},
   "source": [
    "Copyright **`(c)`** 2025 Giovanni Squillero `<giovanni.squillero@polito.it>`  \n",
    "[`https://github.com/squillero/computational-intelligence`](https://github.com/squillero/computational-intelligence)  \n",
    "Free under certain conditions — see the [`license`](https://github.com/squillero/computational-intelligence/blob/master/LICENSE.md) for details.  "
   ]
  },
  {
   "cell_type": "code",
   "execution_count": 4,
   "id": "c0882a9f",
   "metadata": {},
   "outputs": [],
   "source": [
    "import numpy as np\n",
    "from icecream import ic\n",
    "from copy import deepcopy\n",
    "from tqdm.auto import tqdm"
   ]
  },
  {
   "cell_type": "code",
   "execution_count": 4,
   "id": "3adb670e",
   "metadata": {},
   "outputs": [],
   "source": [
    "NUM_KNAPSACKS = 2\n",
    "NUM_ITEMS = 10\n",
    "NUM_DIMENSIONS = 2"
   ]
  },
  {
   "cell_type": "code",
   "execution_count": 5,
   "id": "2db51e99",
   "metadata": {},
   "outputs": [],
   "source": [
    "VALUES = np.random.randint(0, 100, size=NUM_ITEMS)\n",
    "WEIGHTS = np.random.randint(0, 100, size=(NUM_ITEMS, NUM_DIMENSIONS))\n",
    "CONSTRAINTS = np.random.randint(0, 100 * NUM_ITEMS // NUM_KNAPSACKS, size=NUM_DIMENSIONS)"
   ]
  },
  {
   "cell_type": "code",
   "execution_count": 8,
   "id": "2abb812d",
   "metadata": {},
   "outputs": [
    {
     "data": {
      "text/plain": [
       "array([446, 235], dtype=int32)"
      ]
     },
     "execution_count": 8,
     "metadata": {},
     "output_type": "execute_result"
    }
   ],
   "source": [
    "CONSTRAINTS"
   ]
  },
  {
   "cell_type": "code",
   "execution_count": 9,
   "id": "dade6b3c",
   "metadata": {},
   "outputs": [],
   "source": [
    "# A random solution\n",
    "solution = np.array(\n",
    "    [np.random.random(NUM_ITEMS) < 0.5 for _ in range(NUM_KNAPSACKS)], dtype=np.bool\n",
    ")"
   ]
  },
  {
   "cell_type": "code",
   "execution_count": 10,
   "id": "f21d5749",
   "metadata": {},
   "outputs": [
    {
     "data": {
      "text/plain": [
       "array([[ True, False, False,  True,  True, False,  True,  True, False,\n",
       "         True],\n",
       "       [False, False,  True, False,  True, False, False,  True, False,\n",
       "         True]])"
      ]
     },
     "execution_count": 10,
     "metadata": {},
     "output_type": "execute_result"
    }
   ],
   "source": [
    "solution"
   ]
  },
  {
   "cell_type": "code",
   "execution_count": 65,
   "id": "7de9a3fb",
   "metadata": {},
   "outputs": [
    {
     "data": {
      "text/plain": [
       "np.False_"
      ]
     },
     "execution_count": 65,
     "metadata": {},
     "output_type": "execute_result"
    }
   ],
   "source": [
    "# Check that the same object does not appear in multiple knapsacks\n",
    "np.all(solution.sum(axis=0) <= 1)"
   ]
  },
  {
   "cell_type": "code",
   "execution_count": 66,
   "id": "54d5b5ee",
   "metadata": {},
   "outputs": [
    {
     "data": {
      "text/plain": [
       "np.False_"
      ]
     },
     "execution_count": 66,
     "metadata": {},
     "output_type": "execute_result"
    }
   ],
   "source": [
    "# Check if the solution is valid\n",
    "all_knapsacks = np.any(solution, axis=0)\n",
    "np.all(WEIGHTS[all_knapsacks].sum(axis=0) < CONSTRAINTS)"
   ]
  },
  {
   "cell_type": "markdown",
   "id": "8e0e0673",
   "metadata": {},
   "source": [
    "## TEST PROBLEMS"
   ]
  },
  {
   "cell_type": "code",
   "execution_count": 140,
   "id": "5595db9c",
   "metadata": {},
   "outputs": [],
   "source": [
    "# Problem 1:\n",
    "rng = np.random.default_rng(seed=42)\n",
    "NUM_KNAPSACKS = 3\n",
    "NUM_ITEMS = 20\n",
    "NUM_DIMENSIONS = 2\n",
    "VALUES = rng.integers(0, 100, size=NUM_ITEMS)\n",
    "WEIGHTS = rng.integers(0, 100, size=(NUM_ITEMS, NUM_DIMENSIONS))\n",
    "CONSTRAINTS = rng.integers(0, 100 * NUM_ITEMS // NUM_KNAPSACKS, size=NUM_DIMENSIONS)"
   ]
  },
  {
   "cell_type": "code",
   "execution_count": 142,
   "id": "9eed08a0",
   "metadata": {},
   "outputs": [],
   "source": [
    "# Problem 2:\n",
    "rng = np.random.default_rng(seed=42)\n",
    "NUM_KNAPSACKS = 10\n",
    "NUM_ITEMS = 100\n",
    "NUM_DIMENSIONS = 10\n",
    "VALUES = rng.integers(0, 1000, size=NUM_ITEMS)\n",
    "WEIGHTS = rng.integers(0, 1000, size=(NUM_ITEMS, NUM_DIMENSIONS))\n",
    "CONSTRAINTS = rng.integers(1000 * 2, 1000 * NUM_ITEMS // NUM_KNAPSACKS, size=NUM_DIMENSIONS)"
   ]
  },
  {
   "cell_type": "code",
   "execution_count": 144,
   "id": "117380d6",
   "metadata": {},
   "outputs": [],
   "source": [
    "# Problem 3:\n",
    "rng = np.random.default_rng(seed=42)\n",
    "NUM_KNAPSACKS = 100\n",
    "NUM_ITEMS = 5000\n",
    "NUM_DIMENSIONS = 100\n",
    "VALUES = rng.integers(0, 1000, size=NUM_ITEMS)\n",
    "WEIGHTS = rng.integers(0, 1000, size=(NUM_ITEMS, NUM_DIMENSIONS))\n",
    "CONSTRAINTS = rng.integers(1000 * 10, 1000 * 2 * NUM_ITEMS // NUM_KNAPSACKS, size=NUM_DIMENSIONS)"
   ]
  },
  {
   "cell_type": "code",
   "execution_count": null,
   "id": "f7fcff5b",
   "metadata": {},
   "outputs": [],
   "source": [
    "# V = total value of the items in the knapsacks\n",
    "def V(solution):\n",
    "    sum = 0\n",
    "    for knapsack in range(NUM_KNAPSACKS):\n",
    "        for item in range(NUM_ITEMS):\n",
    "            sum += solution[knapsack, item] * VALUES[item]\n",
    "    return sum\n",
    "\n",
    "\n",
    "# P = penalty for invalid knapsacks\n",
    "# P = number of invalid knapsacks * total invalid weight\n",
    "def P(solution):\n",
    "    # npk = number of invalid knapsacks\n",
    "    npk = 0\n",
    "    # tiw = total invalid weight\n",
    "    tiw = 0\n",
    "    for knapsack in range(NUM_KNAPSACKS):\n",
    "        for dim in range(NUM_DIMENSIONS):\n",
    "            total_weigth= 0\n",
    "            for item in range(NUM_ITEMS):\n",
    "                total_weigth += solution[knapsack, item] * WEIGHTS[item, dim]\n",
    "            if total_weigth > CONSTRAINTS[knapsack, dim]:\n",
    "                npk += 1\n",
    "                tiw += total_weigth - CONSTRAINTS[knapsack, dim]\n",
    "    return npk*tiw\n",
    "# D = penalty for duplicate items in different knapsacks\n",
    "# D = number of duplicated items * values of the items\n",
    "def D(solution):\n",
    "    d = 0\n",
    "    for item in range(NUM_ITEMS):\n",
    "        count = 0\n",
    "        for knapsack in range(NUM_KNAPSACKS):\n",
    "            if solution[knapsack, item]:\n",
    "                count += 1\n",
    "        if count > 1:\n",
    "            d += count * VALUES[item]\n",
    "    return d"
   ]
  },
  {
   "cell_type": "code",
   "execution_count": 106,
   "id": "128884eb",
   "metadata": {},
   "outputs": [],
   "source": [
    "# Optimization of the functions by ChatGPT\n",
    "\n",
    "def V(solution):\n",
    "    return float((solution @ VALUES).sum())\n",
    "\n",
    "def P(solution):\n",
    "    W = WEIGHTS if WEIGHTS.ndim == 2 else WEIGHTS[:, None]           # (N,D)\n",
    "    C = CONSTRAINTS if CONSTRAINTS.ndim == 2 else CONSTRAINTS[None]  # (K,D)\n",
    "    excess = np.clip(solution @ W - C, 0, None)                      # (K,D) solo sfori\n",
    "    return float(excess.sum())\n",
    "\n",
    "def D(solution):\n",
    "    counts = solution.sum(axis=0)             # (N,)\n",
    "    excess = np.clip(counts - 1, 0, None)     # (N,)\n",
    "    return float((excess * VALUES).sum())\n",
    "\n",
    "def _W2d(WEIGHTS):\n",
    "    return WEIGHTS if WEIGHTS.ndim == 2 else WEIGHTS[:, None]"
   ]
  },
  {
   "cell_type": "code",
   "execution_count": 107,
   "id": "95cd4d73",
   "metadata": {},
   "outputs": [],
   "source": [
    "def cost(solution):\n",
    "    return (P(solution)+D(solution))-V(solution)\n",
    "\n",
    "def tweak(solution, strength: float=0.1):\n",
    "    new_solution = deepcopy(solution)\n",
    "    again = True\n",
    "    while again:\n",
    "\n",
    "        # case 1: remove all duplicates of an object expect for one casual knapsack\n",
    "        if D(new_solution) > 0:\n",
    "            counts = new_solution.sum(axis=0)               \n",
    "            dup_items = np.where(counts > 1)[0]   \n",
    "            for j in dup_items:\n",
    "                ks = np.where(new_solution[:, j])[0]        \n",
    "                keep = rng.choice(ks)         \n",
    "                new_solution[ks, j] = False\n",
    "                new_solution[keep, j] = True\n",
    "        # case 2: remove the worst weigth/value object from a casual knapsack that is invalid\n",
    "        if P(new_solution) > 0: \n",
    "            W = _W2d(WEIGHTS)                      \n",
    "            K = new_solution.shape[0]\n",
    "            loads = new_solution @ W                        \n",
    "            for k in range(K):\n",
    "                while np.any(loads[k] > CONSTRAINTS):\n",
    "                    items_in = np.where(new_solution[k])[0]\n",
    "                    if items_in.size == 0:\n",
    "                        break \n",
    "                    weights_items = W[items_in] \n",
    "                    norm_w = weights_items / np.maximum(CONSTRAINTS, 1)\n",
    "                    score = norm_w.sum(axis=1) / np.maximum(VALUES[items_in], 1e-9)\n",
    "                    j = items_in[np.argmax(score)]\n",
    "                    new_solution[k, j] = False\n",
    "                    loads[k] = new_solution[k] @ W\n",
    "        # case 3: casualy remove/add an object from a casual knapsack\n",
    "        if P(new_solution) == 0 and D(new_solution) == 0:\n",
    "            knapsack = rng.integers(0, NUM_KNAPSACKS-1)\n",
    "            item = rng.integers(0, NUM_ITEMS-1)\n",
    "            new_solution[knapsack, item] = not new_solution[knapsack, item]\n",
    "        again = rng.random() < strength\n",
    "        \n",
    "    return new_solution"
   ]
  },
  {
   "cell_type": "code",
   "execution_count": null,
   "id": "93f867c1",
   "metadata": {},
   "outputs": [
    {
     "name": "stderr",
     "output_type": "stream",
     "text": [
      "  0%|          | 0/1000 [00:00<?, ?it/s]ic| step: 0, current_cost: -1665175.0\n",
      "  0%|          | 4/1000 [00:01<04:43,  3.51it/s]ic| step: 4, current_cost: -1665269.0\n",
      "  1%|          | 10/1000 [00:02<02:14,  7.38it/s]ic| step: 10, current_cost: -1665514.0\n",
      "  1%|          | 12/1000 [00:02<02:07,  7.75it/s]ic| step: 12, current_cost: -1666150.0\n",
      "  2%|▏         | 15/1000 [00:03<03:02,  5.40it/s]ic| step: 15, current_cost: -1666480.0\n",
      "  3%|▎         | 29/1000 [00:05<02:22,  6.81it/s]ic| step: 29, current_cost: -1666524.0\n",
      "  3%|▎         | 31/1000 [00:05<02:25,  6.65it/s]ic| step: 31, current_cost: -1666857.0\n",
      "  3%|▎         | 33/1000 [00:05<02:09,  7.49it/s]ic| step: 33, current_cost: -1667022.0\n",
      "  5%|▍         | 47/1000 [00:08<02:00,  7.89it/s]ic| step: 47, current_cost: -1667066.0\n",
      "  5%|▌         | 53/1000 [00:09<02:17,  6.87it/s]ic| step: 53, current_cost: -1667258.0\n",
      "  5%|▌         | 54/1000 [00:09<02:36,  6.05it/s]ic| step: 54, current_cost: -1667650.0\n",
      "  6%|▌         | 56/1000 [00:09<02:12,  7.10it/s]ic| step: 56, current_cost: -1667756.0\n",
      "  6%|▌         | 62/1000 [00:10<02:32,  6.17it/s]ic| step: 62, current_cost: -1667770.0\n",
      "  8%|▊         | 77/1000 [00:13<03:09,  4.88it/s]ic| step: 77, current_cost: -1667812.0\n",
      "  8%|▊         | 78/1000 [00:13<02:47,  5.49it/s]ic| step: 78, current_cost: -1668493.0\n",
      "  8%|▊         | 83/1000 [00:14<02:51,  5.36it/s]ic| step: 83, current_cost: -1668803.0\n",
      "  8%|▊         | 85/1000 [00:14<02:35,  5.90it/s]ic| step: 85, current_cost: -1668893.0\n",
      "  9%|▉         | 88/1000 [00:15<02:45,  5.52it/s]ic| step: 88, current_cost: -1669345.0\n",
      "  9%|▉         | 91/1000 [00:15<02:24,  6.28it/s]ic| step: 91, current_cost: -1669454.0\n",
      "  9%|▉         | 92/1000 [00:15<02:38,  5.72it/s]ic| step: 92, current_cost: -1669561.0\n",
      " 10%|▉         | 99/1000 [00:17<02:16,  6.61it/s]ic| step: 99, current_cost: -1669849.0\n",
      " 10%|█         | 102/1000 [00:17<01:54,  7.82it/s]ic| step: 102, current_cost: -1670169.0\n",
      " 11%|█         | 107/1000 [00:18<02:22,  6.25it/s]ic| step: 107, current_cost: -1670229.0\n",
      " 11%|█         | 110/1000 [00:18<02:15,  6.55it/s]ic| step: 110, current_cost: -1670279.0\n",
      " 13%|█▎        | 130/1000 [00:21<02:09,  6.71it/s]ic| step: 130, current_cost: -1670769.0\n",
      " 13%|█▎        | 131/1000 [00:21<02:26,  5.95it/s]ic| step: 131, current_cost: -1671191.0\n",
      " 14%|█▍        | 139/1000 [00:23<01:53,  7.56it/s]ic| step: 139, current_cost: -1671611.0\n",
      " 15%|█▍        | 148/1000 [00:24<02:22,  5.97it/s]ic| step: 148, current_cost: -1672703.0\n",
      " 15%|█▍        | 149/1000 [00:24<02:26,  5.80it/s]ic| step: 149, current_cost: -1672864.0\n",
      " 15%|█▌        | 150/1000 [00:24<02:14,  6.32it/s]ic| step: 150, current_cost: -1672987.0\n",
      " 15%|█▌        | 152/1000 [00:24<01:59,  7.10it/s]ic| step: 152, current_cost: -1673127.0\n",
      " 15%|█▌        | 154/1000 [00:25<01:52,  7.54it/s]ic| step: 154, current_cost: -1673361.0\n",
      " 17%|█▋        | 174/1000 [00:28<02:28,  5.55it/s]ic| step: 174, current_cost: -1673794.0\n",
      " 19%|█▉        | 192/1000 [00:31<01:49,  7.35it/s]ic| step: 192, current_cost: -1674250.0\n",
      " 22%|██▎       | 225/1000 [00:36<01:50,  7.00it/s]ic| step: 225, current_cost: -1675081.0\n",
      " 23%|██▎       | 227/1000 [00:36<01:51,  6.91it/s]ic| step: 227, current_cost: -1675184.0\n",
      " 23%|██▎       | 228/1000 [00:36<01:47,  7.15it/s]ic| step: 228, current_cost: -1675380.0\n",
      " 24%|██▎       | 236/1000 [00:38<01:42,  7.49it/s]ic| step: 236, current_cost: -1675701.0\n",
      " 24%|██▍       | 239/1000 [00:38<01:54,  6.67it/s]ic| step: 239, current_cost: -1675741.0\n",
      " 24%|██▍       | 242/1000 [00:38<01:38,  7.71it/s]ic| step: 242, current_cost: -1676059.0\n",
      " 25%|██▍       | 246/1000 [00:39<01:33,  8.09it/s]ic| step: 246, current_cost: -1676162.0\n",
      " 25%|██▌       | 251/1000 [00:40<01:50,  6.78it/s]ic| step: 251, current_cost: -1676504.0\n",
      " 26%|██▌       | 257/1000 [00:41<02:08,  5.77it/s]ic| step: 257, current_cost: -1676780.0\n",
      " 27%|██▋       | 266/1000 [00:42<01:36,  7.60it/s]ic| step: 266, current_cost: -1677568.0\n",
      " 28%|██▊       | 277/1000 [00:44<02:01,  5.93it/s]ic| step: 277, current_cost: -1677718.0\n",
      " 28%|██▊       | 278/1000 [00:44<01:51,  6.47it/s]ic| step: 278, current_cost: -1677874.0\n",
      " 30%|██▉       | 298/1000 [00:47<02:17,  5.11it/s]ic| step: 298, current_cost: -1678273.0\n",
      " 34%|███▍      | 339/1000 [00:54<01:37,  6.77it/s]ic| step: 339, current_cost: -1678735.0\n",
      " 34%|███▍      | 344/1000 [00:54<01:20,  8.10it/s]ic| step: 344, current_cost: -1679202.0\n",
      " 36%|███▌      | 357/1000 [00:56<01:31,  7.04it/s]ic| step: 357, current_cost: -1679616.0\n",
      " 38%|███▊      | 384/1000 [01:00<01:34,  6.53it/s]ic| step: 384, current_cost: -1679685.0\n",
      " 39%|███▉      | 390/1000 [01:01<02:08,  4.73it/s]ic| step: 390, current_cost: -1680122.0\n",
      " 40%|███▉      | 399/1000 [01:02<01:18,  7.69it/s]ic| step: 399, current_cost: -1680345.0\n",
      " 41%|████      | 406/1000 [01:03<01:27,  6.78it/s]ic| step: 406, current_cost: -1680729.0\n",
      " 41%|████      | 410/1000 [01:04<01:16,  7.76it/s]ic| step: 410, current_cost: -1681030.0\n",
      " 43%|████▎     | 426/1000 [01:06<01:11,  7.99it/s]ic| step: 426, current_cost: -1681321.0\n",
      " 43%|████▎     | 427/1000 [01:06<01:28,  6.51it/s]ic| step: 427, current_cost: -1681849.0\n",
      " 45%|████▍     | 448/1000 [01:09<01:26,  6.35it/s]ic| step: 448, current_cost: -1682197.0\n",
      " 45%|████▍     | 449/1000 [01:09<01:21,  6.74it/s]ic| step: 449, current_cost: -1682372.0\n",
      " 46%|████▋     | 464/1000 [01:12<01:11,  7.50it/s]ic| step: 464, current_cost: -1682892.0\n",
      " 48%|████▊     | 483/1000 [01:15<01:11,  7.28it/s]ic| step: 483, current_cost: -1683453.0\n",
      " 49%|████▉     | 491/1000 [01:16<01:27,  5.80it/s]ic| step: 491, current_cost: -1683524.0\n",
      " 50%|█████     | 503/1000 [01:18<01:36,  5.16it/s]ic| step: 503, current_cost: -1683950.0\n",
      " 51%|█████     | 510/1000 [01:19<01:16,  6.40it/s]ic| step: 510, current_cost: -1683993.0\n",
      " 52%|█████▏    | 515/1000 [01:20<01:08,  7.04it/s]ic| step: 515, current_cost: -1684188.0\n",
      " 54%|█████▍    | 540/1000 [01:24<01:38,  4.66it/s]ic| step: 540, current_cost: -1684668.0\n",
      " 59%|█████▉    | 593/1000 [01:33<01:13,  5.54it/s]ic| step: 593, current_cost: -1685076.0\n",
      " 61%|██████▏   | 614/1000 [01:36<00:58,  6.60it/s]ic| step: 614, current_cost: -1685601.0\n",
      " 64%|██████▍   | 643/1000 [01:41<01:05,  5.45it/s]ic| step: 643, current_cost: -1685721.0\n",
      " 67%|██████▋   | 671/1000 [01:45<00:40,  8.15it/s]ic| step: 671, current_cost: -1686016.0\n",
      " 70%|███████   | 701/1000 [01:49<00:39,  7.64it/s]ic| step: 701, current_cost: -1686059.0\n",
      " 71%|███████   | 711/1000 [01:50<00:39,  7.24it/s]ic| step: 711, current_cost: -1686457.0\n",
      " 71%|███████▏  | 714/1000 [01:51<00:41,  6.97it/s]ic| step: 714, current_cost: -1687211.0\n",
      " 76%|███████▌  | 756/1000 [01:58<00:35,  6.86it/s]ic| step: 756, current_cost: -1687319.0\n",
      " 76%|███████▌  | 758/1000 [01:58<00:38,  6.27it/s]ic| step: 758, current_cost: -1687490.0\n",
      " 76%|███████▌  | 759/1000 [01:58<00:36,  6.57it/s]ic| step: 759, current_cost: -1687616.0\n",
      " 76%|███████▋  | 763/1000 [01:59<00:49,  4.82it/s]ic| step: 763, current_cost: -1688146.0\n",
      " 77%|███████▋  | 766/1000 [01:59<00:35,  6.53it/s]ic| step: 766, current_cost: -1688382.0\n",
      " 79%|███████▉  | 788/1000 [02:03<00:33,  6.25it/s]ic| step: 788, current_cost: -1688765.0\n",
      " 79%|███████▉  | 791/1000 [02:03<00:27,  7.53it/s]ic| step: 791, current_cost: -1689001.0\n",
      " 79%|███████▉  | 792/1000 [02:03<00:27,  7.48it/s]ic| step: 792, current_cost: -1689432.0\n",
      " 79%|███████▉  | 794/1000 [02:04<00:29,  6.88it/s]ic| step: 794, current_cost: -1689496.0\n",
      " 84%|████████▍ | 845/1000 [02:11<00:18,  8.16it/s]ic| step: 845, current_cost: -1690247.0\n",
      " 85%|████████▍ | 847/1000 [02:11<00:23,  6.44it/s]ic| step: 847, current_cost: -1690828.0\n",
      " 86%|████████▌ | 856/1000 [02:13<00:20,  6.97it/s]ic| step: 856, current_cost: -1691150.0\n",
      " 91%|█████████▏| 914/1000 [02:23<00:15,  5.59it/s]ic| step: 914, current_cost: -1691176.0\n",
      " 92%|█████████▏| 919/1000 [02:24<00:12,  6.66it/s]ic| step: 919, current_cost: -1691309.0\n",
      " 95%|█████████▌| 952/1000 [02:29<00:05,  8.28it/s]ic| step: 952, current_cost: -1691373.0\n",
      "100%|██████████| 1000/1000 [02:36<00:00,  6.38it/s]"
     ]
    },
    {
     "name": "stdout",
     "output_type": "stream",
     "text": [
      "Final solution cost: -1691373.0\n"
     ]
    },
    {
     "name": "stderr",
     "output_type": "stream",
     "text": [
      "\n"
     ]
    }
   ],
   "source": [
    "# The solution shown is for PROBLEM 3 but the algorithm also works for PROBLEM 1 and PROBLEM 2\n",
    "\n",
    "current_solution = solution = np.array(\n",
    "    [np.random.random(NUM_ITEMS) < 0.5 for _ in range(NUM_KNAPSACKS)], dtype=np.bool\n",
    ")\n",
    "\n",
    "current_cost = cost(current_solution)\n",
    "current_d_cost=D(current_solution)\n",
    "current_p_cost=P(current_solution)\n",
    "\n",
    "MAX_STEP = 1000\n",
    "temperature = 100\n",
    "\n",
    "for step in tqdm(range(MAX_STEP)):\n",
    "    new_solution = tweak(current_solution, strength=0.3)\n",
    "    new_cost = cost(new_solution)\n",
    "\n",
    "    new_d_cost = D(new_solution)\n",
    "    new_p_cost = P(new_solution)\n",
    "\n",
    "\n",
    "    if new_cost < current_cost and (new_d_cost <= current_d_cost and new_p_cost <= current_p_cost):\n",
    "        current_solution = new_solution\n",
    "        current_cost = new_cost\n",
    "        current_p_cost = new_p_cost\n",
    "        current_d_cost = new_d_cost\n",
    "        ic(step, current_cost)\n",
    "    elif new_cost == current_cost and (new_d_cost <= current_d_cost and new_p_cost <= current_p_cost):\n",
    "        current_solution = new_solution\n",
    "        current_cost = new_cost\n",
    "        current_p_cost = new_p_cost\n",
    "        current_d_cost = new_d_cost\n",
    "        ic(step, current_cost)\n",
    "    elif ((-(new_cost-current_cost)/temperature) > (np.log(rng.random()))) and (new_d_cost <= current_d_cost and new_p_cost <= current_p_cost):\n",
    "        current_solution = new_solution\n",
    "        current_cost = new_cost\n",
    "        current_p_cost = new_p_cost\n",
    "        current_d_cost = new_d_cost\n",
    "        ic(step, current_cost)\n",
    "    temperature*=0.99\n",
    "\n",
    "if P(current_solution) != 0:\n",
    "    print(\"Warning: final solution is invalid P =\", P(current_solution))\n",
    "if D(current_solution) != 0:\n",
    "    print(\"Warning: final solution has duplicates D =\", D(current_solution))\n",
    "print(\"Final solution cost:\", current_cost)"
   ]
  }
 ],
 "metadata": {
  "kernelspec": {
   "display_name": ".venv",
   "language": "python",
   "name": "python3"
  },
  "language_info": {
   "codemirror_mode": {
    "name": "ipython",
    "version": 3
   },
   "file_extension": ".py",
   "mimetype": "text/x-python",
   "name": "python",
   "nbconvert_exporter": "python",
   "pygments_lexer": "ipython3",
   "version": "3.13.8"
  }
 },
 "nbformat": 4,
 "nbformat_minor": 5
}
