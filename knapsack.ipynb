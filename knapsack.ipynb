{
 "cells": [
  {
   "cell_type": "markdown",
   "id": "11fa4375",
   "metadata": {},
   "source": [
    "Copyright **`(c)`** 2025 Giovanni Squillero `<giovanni.squillero@polito.it>`  \n",
    "[`https://github.com/squillero/computational-intelligence`](https://github.com/squillero/computational-intelligence)  \n",
    "Free under certain conditions — see the [`license`](https://github.com/squillero/computational-intelligence/blob/master/LICENSE.md) for details.  "
   ]
  },
  {
   "cell_type": "code",
   "execution_count": 38,
   "id": "c0882a9f",
   "metadata": {},
   "outputs": [],
   "source": [
    "import numpy as np\n",
    "from icecream import ic\n",
    "from copy import deepcopy\n",
    "from tqdm.auto import tqdm"
   ]
  },
  {
   "cell_type": "markdown",
   "id": "8e0e0673",
   "metadata": {},
   "source": [
    "## TEST PROBLEMS"
   ]
  },
  {
   "cell_type": "code",
   "execution_count": 39,
   "id": "5595db9c",
   "metadata": {},
   "outputs": [],
   "source": [
    "# Problem 1:\n",
    "rng = np.random.default_rng(seed=42)\n",
    "NUM_KNAPSACKS = 3\n",
    "NUM_ITEMS = 20\n",
    "NUM_DIMENSIONS = 2\n",
    "VALUES = rng.integers(0, 100, size=NUM_ITEMS)\n",
    "WEIGHTS = rng.integers(0, 100, size=(NUM_ITEMS, NUM_DIMENSIONS))\n",
    "CONSTRAINTS = rng.integers(0, 100 * NUM_ITEMS // NUM_KNAPSACKS, size=(NUM_KNAPSACKS, NUM_DIMENSIONS))"
   ]
  },
  {
   "cell_type": "code",
   "execution_count": 40,
   "id": "9eed08a0",
   "metadata": {},
   "outputs": [],
   "source": [
    "# Problem 2:\n",
    "rng = np.random.default_rng(seed=42)\n",
    "NUM_KNAPSACKS = 10\n",
    "NUM_ITEMS = 100\n",
    "NUM_DIMENSIONS = 10\n",
    "VALUES = rng.integers(0, 1000, size=NUM_ITEMS)\n",
    "WEIGHTS = rng.integers(0, 1000, size=(NUM_ITEMS, NUM_DIMENSIONS))\n",
    "CONSTRAINTS = rng.integers(1000 * 2, 1000 * NUM_ITEMS // NUM_KNAPSACKS, size=(NUM_KNAPSACKS, NUM_DIMENSIONS))"
   ]
  },
  {
   "cell_type": "code",
   "execution_count": 41,
   "id": "117380d6",
   "metadata": {},
   "outputs": [],
   "source": [
    "# Problem 3:\n",
    "rng = np.random.default_rng(seed=42)\n",
    "NUM_KNAPSACKS = 100\n",
    "NUM_ITEMS = 5000\n",
    "NUM_DIMENSIONS = 100\n",
    "VALUES = rng.integers(0, 1000, size=NUM_ITEMS)\n",
    "WEIGHTS = rng.integers(0, 1000, size=(NUM_ITEMS, NUM_DIMENSIONS))\n",
    "CONSTRAINTS = rng.integers(1000 * 10, 1000 * 2 * NUM_ITEMS // NUM_KNAPSACKS, size=(NUM_KNAPSACKS, NUM_DIMENSIONS))"
   ]
  },
  {
   "cell_type": "code",
   "execution_count": 42,
   "id": "442d9403",
   "metadata": {},
   "outputs": [],
   "source": [
    "def feasible(solution: np.ndarray) -> bool:\n",
    "    return D(solution) == 0 and P(solution) == 0"
   ]
  },
  {
   "cell_type": "code",
   "execution_count": null,
   "id": "f7fcff5b",
   "metadata": {},
   "outputs": [],
   "source": [
    "# V = total value of the items in the knapsacks\n",
    "def V(solution):\n",
    "    sum = 0\n",
    "    for knapsack in range(NUM_KNAPSACKS):\n",
    "        for item in range(NUM_ITEMS):\n",
    "            sum += solution[knapsack, item] * VALUES[item]\n",
    "    return sum\n",
    "\n",
    "\n",
    "# P = penalty for invalid knapsacks\n",
    "# P = number of invalid knapsacks * total invalid weight\n",
    "def P(solution):\n",
    "    # npk = number of invalid knapsacks\n",
    "    npk = 0\n",
    "    # tiw = total invalid weight\n",
    "    tiw = 0\n",
    "    for knapsack in range(NUM_KNAPSACKS):\n",
    "        for dim in range(NUM_DIMENSIONS):\n",
    "            total_weigth= 0\n",
    "            for item in range(NUM_ITEMS):\n",
    "                total_weigth += solution[knapsack, item] * WEIGHTS[item, dim]\n",
    "            if total_weigth > CONSTRAINTS[knapsack, dim]:\n",
    "                npk += 1\n",
    "                tiw += total_weigth - CONSTRAINTS[knapsack, dim]\n",
    "    return npk*tiw\n",
    "# D = penalty for duplicate items in different knapsacks\n",
    "def D(solution):# D = number of duplicated items * values of the items\n",
    "\n",
    "    d = 0\n",
    "    for item in range(NUM_ITEMS):\n",
    "        count = 0\n",
    "        for knapsack in range(NUM_KNAPSACKS):\n",
    "            if solution[knapsack, item]:\n",
    "                count += 1\n",
    "        if count > 1:\n",
    "            d += count * VALUES[item]\n",
    "    return d"
   ]
  },
  {
   "cell_type": "code",
   "execution_count": 44,
   "id": "128884eb",
   "metadata": {},
   "outputs": [],
   "source": [
    "# Optimization of the functions by ChatGPT\n",
    "\n",
    "def V(solution):\n",
    "    return float((solution @ VALUES).sum())\n",
    "\n",
    "def P(solution):\n",
    "    W = WEIGHTS if WEIGHTS.ndim == 2 else WEIGHTS[:, None]           # (N,D)\n",
    "    C = CONSTRAINTS if CONSTRAINTS.ndim == 2 else CONSTRAINTS[None]  # (K,D)\n",
    "    excess = np.clip(solution @ W - C, 0, None)                      # (K,D) solo sfori\n",
    "    return float(excess.sum())\n",
    "\n",
    "def D(solution):\n",
    "    counts = solution.sum(axis=0)             # (N,)\n",
    "    excess = np.clip(counts - 1, 0, None)     # (N,)\n",
    "    return float((excess * VALUES).sum())\n",
    "\n",
    "def _W2d(WEIGHTS):\n",
    "    return WEIGHTS if WEIGHTS.ndim == 2 else WEIGHTS[:, None]"
   ]
  },
  {
   "cell_type": "code",
   "execution_count": 45,
   "id": "95cd4d73",
   "metadata": {},
   "outputs": [],
   "source": [
    "def cost(solution):\n",
    "    return (P(solution)+D(solution))-V(solution)\n",
    "\n",
    "def tweak(solution, strength: float=0.1):\n",
    "    new_solution = deepcopy(solution)\n",
    "    again = True\n",
    "    while again:\n",
    "\n",
    "        # case 1: remove all duplicates of an object expect for one casual knapsack\n",
    "        if D(new_solution) > 0:\n",
    "            counts = new_solution.sum(axis=0)               \n",
    "            dup_items = np.where(counts > 1)[0]   \n",
    "            for j in dup_items:\n",
    "                ks = np.where(new_solution[:, j])[0]        \n",
    "                keep = rng.choice(ks)         \n",
    "                new_solution[ks, j] = False\n",
    "                new_solution[keep, j] = True\n",
    "        # case 2: remove the worst weigth/value object from a casual knapsack that is invalid\n",
    "        if P(new_solution) > 0: \n",
    "            W = _W2d(WEIGHTS)                      \n",
    "            K = new_solution.shape[0]\n",
    "            loads = new_solution @ W                        \n",
    "            for k in range(K):\n",
    "                while np.any(loads[k] > CONSTRAINTS[k]):\n",
    "                    items_in = np.where(new_solution[k])[0]\n",
    "                    if items_in.size == 0:\n",
    "                        break \n",
    "                    weights_items = W[items_in] \n",
    "                    norm_w = weights_items / np.maximum(CONSTRAINTS[k], 1)\n",
    "                    score = norm_w.sum(axis=1) / np.maximum(VALUES[items_in], 1e-9)\n",
    "                    j = items_in[np.argmax(score)]\n",
    "                    new_solution[k, j] = False\n",
    "                    loads[k] = new_solution[k] @ W\n",
    "        # case 3: casually remove/add an object from a casual knapsack\n",
    "        if P(new_solution) == 0 and D(new_solution) == 0:\n",
    "            knapsack = rng.integers(0, NUM_KNAPSACKS-1)\n",
    "            item = rng.integers(0, NUM_ITEMS-1)\n",
    "            new_solution[knapsack, item] = not new_solution[knapsack, item]\n",
    "        again = rng.random() < strength\n",
    "        \n",
    "    return new_solution"
   ]
  },
  {
   "cell_type": "code",
   "execution_count": 46,
   "id": "93f867c1",
   "metadata": {},
   "outputs": [
    {
     "name": "stderr",
     "output_type": "stream",
     "text": [
      "  0%|          | 0/10 [00:00<?, ?it/s]ic| step: 0, current_cost: -1605957.0\n",
      " 10%|█         | 1/10 [00:06<00:57,  6.38s/it]ic| step: 1, current_cost: -1606232.0\n",
      "100%|██████████| 10/10 [00:12<00:00,  1.23s/it]"
     ]
    },
    {
     "name": "stdout",
     "output_type": "stream",
     "text": [
      "Final solution cost: -1606232.0\n",
      "Final value: 1606232.0\n"
     ]
    },
    {
     "name": "stderr",
     "output_type": "stream",
     "text": [
      "\n"
     ]
    }
   ],
   "source": [
    "# The solution shown is for PROBLEM 3 but the algorithm also works for PROBLEM 1 and PROBLEM 2\n",
    "\n",
    "current_solution = solution = np.array(\n",
    "    [np.random.random(NUM_ITEMS) < 0.5 for _ in range(NUM_KNAPSACKS)], dtype=np.bool\n",
    ")\n",
    "\n",
    "current_cost = cost(current_solution)\n",
    "current_d_cost=D(current_solution)\n",
    "current_p_cost=P(current_solution)\n",
    "\n",
    "MAX_STEP = 10\n",
    "temperature = 100\n",
    "\n",
    "for step in tqdm(range(MAX_STEP)):\n",
    "    new_solution = tweak(current_solution, strength=0.3)\n",
    "    new_cost = cost(new_solution)\n",
    "\n",
    "    new_d_cost = D(new_solution)\n",
    "    new_p_cost = P(new_solution)\n",
    "\n",
    "\n",
    "    if new_cost < current_cost and (new_d_cost <= current_d_cost and new_p_cost <= current_p_cost):\n",
    "        current_solution = new_solution\n",
    "        current_cost = new_cost\n",
    "        current_p_cost = new_p_cost\n",
    "        current_d_cost = new_d_cost\n",
    "        ic(step, current_cost)\n",
    "    elif new_cost == current_cost and (new_d_cost <= current_d_cost and new_p_cost <= current_p_cost):\n",
    "        current_solution = new_solution\n",
    "        current_cost = new_cost\n",
    "        current_p_cost = new_p_cost\n",
    "        current_d_cost = new_d_cost\n",
    "        ic(step, current_cost)\n",
    "    elif ((-(new_cost-current_cost)/temperature) > (np.log(rng.random()))) and (new_d_cost <= current_d_cost and new_p_cost <= current_p_cost):\n",
    "        current_solution = new_solution\n",
    "        current_cost = new_cost\n",
    "        current_p_cost = new_p_cost\n",
    "        current_d_cost = new_d_cost\n",
    "        ic(step, current_cost)\n",
    "    temperature*=0.99\n",
    "\n",
    "if P(current_solution) != 0:\n",
    "    print(\"Warning: final solution is invalid P =\", P(current_solution))\n",
    "if D(current_solution) != 0:\n",
    "    print(\"Warning: final solution has duplicates D =\", D(current_solution))\n",
    "print(\"Final solution cost:\", current_cost)\n",
    "print(\"Final value:\", V(current_solution))"
   ]
  },
  {
   "cell_type": "code",
   "execution_count": null,
   "id": "4a7b70a5",
   "metadata": {},
   "outputs": [],
   "source": []
  }
 ],
 "metadata": {
  "kernelspec": {
   "display_name": "mlVenv",
   "language": "python",
   "name": "python3"
  },
  "language_info": {
   "codemirror_mode": {
    "name": "ipython",
    "version": 3
   },
   "file_extension": ".py",
   "mimetype": "text/x-python",
   "name": "python",
   "nbconvert_exporter": "python",
   "pygments_lexer": "ipython3",
   "version": "3.12.4"
  }
 },
 "nbformat": 4,
 "nbformat_minor": 5
}
